{
 "cells": [
  {
   "cell_type": "code",
   "execution_count": 6,
   "metadata": {},
   "outputs": [],
   "source": [
    "import torch\n",
    "import torch.nn as nn\n",
    "import torch.optim as optim\n",
    "import torchvision\n",
    "import torchvision.transforms as transforms\n",
    "from torch.utils.data import DataLoader\n",
    "from torch.utils.tensorboard import SummaryWriter"
   ]
  },
  {
   "cell_type": "markdown",
   "metadata": {},
   "source": [
    "Task1 \n",
    "1. Load CIFAR1-10 dataset"
   ]
  },
  {
   "cell_type": "code",
   "execution_count": 9,
   "metadata": {},
   "outputs": [],
   "source": [
    "# 1. Load CIFAR-10 Dataset\n",
    "transform = transforms.ToTensor()\n",
    "trainset = torchvision.datasets.CIFAR10(root='./data', train=True, download=True, transform=transform)\n",
    "trainloader = DataLoader(trainset, batch_size=64, shuffle=True)\n",
    "testset = torchvision.datasets.CIFAR10(root='./data', train=False, download=True, transform=transform)\n",
    "testloader = DataLoader(testset, batch_size=64, shuffle=False)"
   ]
  },
  {
   "cell_type": "code",
   "execution_count": null,
   "metadata": {},
   "outputs": [
    {
     "name": "stdout",
     "output_type": "stream",
     "text": [
      "The device I have is cuda\n",
      "Epoch 1, Loss: 2.2973031162300988, Accuracy: 11.396%\n",
      "Epoch 2, Loss: 2.273641569535141, Accuracy: 15.694%\n",
      "Epoch 3, Loss: 2.2523760082166824, Accuracy: 18.442%\n"
     ]
    }
   ],
   "source": [
    "class SimpleCNN(nn.Module):\n",
    "    def __init__(self, activation_fn=nn.LeakyReLU()):\n",
    "        super(SimpleCNN, self).__init__()\n",
    "        # The first layer has 3 input channels and 32 output channels. The point here is\n",
    "        # that the CIFR images are 32 * 32, and RGB channels after the to tensor. So, we take\n",
    "        self.conv_layer = nn.Conv2d(3, 32, kernel_size=5) \n",
    "        # Fully connected layer - the hidden layers are 28 * 28 hence and pooling reduces it by 2\n",
    "        # Hence, 14 * 14 and mult that with 32 feature/conv layers.\n",
    "        self.nn_layer = nn.Linear(32 * 14 * 14, 10)\n",
    "        self.activation = activation_fn  # Activation function\n",
    "        self.pool = nn.MaxPool2d(2, 2)  # Max pooling layer\n",
    "    \n",
    "    def forward(self, x):\n",
    "        x = self.pool(self.activation(self.conv_layer(x))) \n",
    "        x = torch.flatten(x, 1)  # Flatten the feature maps, as the next layer is 1d layer\n",
    "        x = self.nn_layer(x)  # Output layer\n",
    "        return x\n",
    "\n",
    "# ANN-1 excercise\n",
    "def train_model(model, optimizer, error_func, epochs=10, log_dir=\"\", device=\"cpu\"):\n",
    "    writer = SummaryWriter(log_dir)\n",
    "    model.to(device)\n",
    "    for epoch in range(epochs):\n",
    "        model.train()\n",
    "        running_loss = 0.0\n",
    "        correct = 0\n",
    "        total = 0\n",
    "        \n",
    "        for images, labels in trainloader:\n",
    "            optimizer.zero_grad()  # Reset gradients\n",
    "            outputs = model(images)  # Forward pass\n",
    "            loss = error_func(outputs, labels)  # Compute loss\n",
    "            loss.backward()  # Backpropagation\n",
    "            optimizer.step()  # Update weights\n",
    "            \n",
    "            running_loss += loss.item()\n",
    "            _, predicted = torch.max(outputs, 1)  # Get predictions\n",
    "            total += labels.size(0)\n",
    "            correct += (predicted == labels).sum().item()\n",
    "        \n",
    "        train_acc = 100 * correct / total  # Compute accuracy\n",
    "        writer.add_scalar('Loss/train', running_loss / len(trainloader), epoch)  # Log loss\n",
    "        writer.add_scalar('Accuracy/train', train_acc, epoch)  # Log accuracy\n",
    "        print(f'Epoch {epoch+1}, Loss: {running_loss / len(trainloader)}, Accuracy: {train_acc}%')\n",
    "    writer.close()\n",
    "\n",
    "# Train model with LeakyReLU and SGD optimizer\n",
    "\n",
    "device = torch.device(\"cuda\" if torch.cuda.is_available() else \"cpu\")\n",
    "print(f\"The device I have is {device}\")\n",
    "\n",
    "model1 = SimpleCNN(nn.LeakyReLU())\n",
    "optimizer1 = optim.SGD(model1.parameters(), lr=0.0001)\n",
    "err_func = nn.CrossEntropyLoss()\n",
    "train_model(model1, optimizer1, err_func, log_dir='logs/leakyrelu_sgd')\n",
    "\n",
    "# Train model with LeakyReLU and Adam optimizer\n",
    "model2 = SimpleCNN(nn.LeakyReLU())\n",
    "optimizer2 = optim.Adam(model2.parameters())\n",
    "train_model(model2, optimizer2, err_func, log_dir='logs/leakyrelu_adam')\n",
    "\n",
    "# Train model with Tanh and Adam optimizer\n",
    "model3 = SimpleCNN(nn.Tanh())\n",
    "optimizer3 = optim.Adam(model3.parameters())\n",
    "train_model(model3, optimizer3, err_func, log_dir='logs/tanh_adam')\n",
    "\n"
   ]
  }
 ],
 "metadata": {
  "kernelspec": {
   "display_name": ".venv",
   "language": "python",
   "name": "python3"
  },
  "language_info": {
   "codemirror_mode": {
    "name": "ipython",
    "version": 3
   },
   "file_extension": ".py",
   "mimetype": "text/x-python",
   "name": "python",
   "nbconvert_exporter": "python",
   "pygments_lexer": "ipython3",
   "version": "3.11.9"
  }
 },
 "nbformat": 4,
 "nbformat_minor": 2
}
