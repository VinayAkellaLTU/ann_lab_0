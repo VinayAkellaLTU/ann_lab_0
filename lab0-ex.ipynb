{
 "cells": [
  {
   "cell_type": "code",
   "execution_count": 25,
   "id": "c8c01bc1-3c7e-44e4-8231-c029fbe5307a",
   "metadata": {},
   "outputs": [
    {
     "name": "stdout",
     "output_type": "stream",
     "text": [
      "--------------  Lab0 - Task 0.1 ------------------\n"
     ]
    }
   ],
   "source": [
    "print(\"--------------  Lab0 - Task 0.1 ------------------\")"
   ]
  },
  {
   "cell_type": "code",
   "execution_count": 2,
   "id": "b1b4baf4-4fa3-49d1-8eda-77f59f42dbc4",
   "metadata": {},
   "outputs": [
    {
     "name": "stdout",
     "output_type": "stream",
     "text": [
      "3.10.16 (main, Dec 11 2024, 10:22:29) [Clang 14.0.6 ]\n"
     ]
    }
   ],
   "source": [
    "import sys\n",
    "print(sys.version)"
   ]
  },
  {
   "cell_type": "code",
   "execution_count": 4,
   "id": "1ee34450-42ac-4159-9986-b65c6b1ef8da",
   "metadata": {},
   "outputs": [
    {
     "name": "stdout",
     "output_type": "stream",
     "text": [
      "Downloading https://www.cs.toronto.edu/~kriz/cifar-10-python.tar.gz to ./data/cifar-10-python.tar.gz\n"
     ]
    },
    {
     "name": "stderr",
     "output_type": "stream",
     "text": [
      "100.0%\n"
     ]
    },
    {
     "name": "stdout",
     "output_type": "stream",
     "text": [
      "Extracting ./data/cifar-10-python.tar.gz to ./data\n",
      "Files already downloaded and verified\n"
     ]
    }
   ],
   "source": [
    "import torch\n",
    "import torchvision\n",
    "import torchvision.transforms as transforms\n",
    "\n",
    "transform = transforms.Compose([\n",
    "    transforms.ToTensor(),\n",
    "    transforms.Normalize((0.5,), (0.5,))\n",
    "])\n",
    "\n",
    "trainset = torchvision.datasets.CIFAR10(root='./data', train=True, download=True, transform=transform)\n",
    "trainloader = torch.utils.data.DataLoader(trainset, batch_size=64, shuffle=True)\n",
    "\n",
    "testset = torchvision.datasets.CIFAR10(root='./data', train=False, download=True, transform=transform)\n",
    "testloader = torch.utils.data.DataLoader(testset, batch_size=64, shuffle=False)\n",
    "\n",
    "classes = trainset.classes\n"
   ]
  },
  {
   "cell_type": "code",
   "execution_count": 19,
   "id": "9ab716b8-a907-42ae-8523-0131dd224956",
   "metadata": {},
   "outputs": [],
   "source": [
    "\"\"\" Simple CNN model with LeakyReLU/Tanh\"\"\"\n",
    "\n",
    "import torch.nn as nn\n",
    "import torch.nn.functional as F\n",
    "\n",
    "class CNNLeakyReLU(nn.Module):\n",
    "    def __init__(self):\n",
    "        super(CNNLeakyReLU, self).__init__()\n",
    "        self.conv1 = nn.Conv2d(3, 32, 3, padding=1)\n",
    "        self.conv2 = nn.Conv2d(32, 64, 3, padding=1)\n",
    "        self.pool = nn.MaxPool2d(2, 2)\n",
    "        self.fc1 = nn.Linear(64 * 8 * 8, 512)\n",
    "        self.fc2 = nn.Linear(512, 10)\n",
    "        self.leakyrelu = nn.LeakyReLU()\n",
    "\n",
    "    def forward(self, x):\n",
    "        x = self.pool(self.leakyrelu(self.conv1(x)))\n",
    "        x = self.pool(self.leakyrelu(self.conv2(x)))\n",
    "        x = x.view(-1, 64 * 8 * 8)\n",
    "        x = self.leakyrelu(self.fc1(x))\n",
    "        x = self.fc2(x)\n",
    "        return x\n",
    "\n",
    "class CNNTanh(nn.Module):\n",
    "    def __init__(self):\n",
    "        super(CNNTanh, self).__init__()\n",
    "        self.conv1 = nn.Conv2d(3, 32, 3, padding=1)\n",
    "        self.conv2 = nn.Conv2d(32, 64, 3, padding=1)\n",
    "        self.pool = nn.MaxPool2d(2, 2)\n",
    "        self.fc1 = nn.Linear(64 * 8 * 8, 512)\n",
    "        self.fc2 = nn.Linear(512, 10)\n",
    "\n",
    "    def forward(self, x):\n",
    "        x = self.pool(torch.tanh(self.conv1(x)))\n",
    "        x = self.pool(torch.tanh(self.conv2(x)))\n",
    "        x = x.view(-1, 64 * 8 * 8)\n",
    "        x = torch.tanh(self.fc1(x))\n",
    "        x = self.fc2(x)\n",
    "        return x\n",
    "\n",
    "\n"
   ]
  },
  {
   "cell_type": "code",
   "execution_count": 21,
   "id": "51fbaa5d-636d-47bb-9d96-c44715b24959",
   "metadata": {},
   "outputs": [],
   "source": [
    "\"\"\" Train the Model with a given Optimizer\"\"\"\n",
    "\n",
    "from torch.utils.tensorboard import SummaryWriter\n",
    "\n",
    "\n",
    "\n",
    "def train_model(model, optimizer, criterion, trainloader, testloader, run_name=\"experiment\", num_epochs=10):\n",
    "    writer = SummaryWriter(f\"runs/{run_name}\")\n",
    "\n",
    "    for epoch in range(num_epochs):\n",
    "        running_loss = 0.0\n",
    "        model.train()\n",
    "        for i, (images, labels) in enumerate(trainloader):\n",
    "            optimizer.zero_grad()\n",
    "            outputs = model(images)\n",
    "            loss = criterion(outputs, labels)\n",
    "            loss.backward()\n",
    "            optimizer.step()\n",
    "            running_loss += loss.item()\n",
    "\n",
    "        avg_loss = running_loss / len(trainloader)\n",
    "        test_accuracy = evaluate_accuracy(model, testloader)\n",
    "\n",
    "        print(f\"Epoch {epoch+1} - Loss: {avg_loss:.4f} - Test Accuracy: {test_accuracy:.2f}%\")\n",
    "\n",
    "        writer.add_scalar(\"Loss/train\", avg_loss, epoch)\n",
    "        writer.add_scalar(\"Accuracy/test\", test_accuracy, epoch)\n",
    "\n",
    "    writer.close()\n",
    "\n",
    "def evaluate_accuracy(model, testloader):\n",
    "    model.eval()\n",
    "    correct = 0\n",
    "    total = 0\n",
    "    with torch.no_grad():\n",
    "        for images, labels in testloader:\n",
    "            outputs = model(images)\n",
    "            _, predicted = torch.max(outputs.data, 1)\n",
    "            total += labels.size(0)\n",
    "            correct += (predicted == labels).sum().item()\n",
    "    return 100 * correct / total\n",
    "\n"
   ]
  },
  {
   "cell_type": "code",
   "execution_count": 22,
   "id": "40c59e54-2f1d-4c74-8e63-7da15ebcb7f5",
   "metadata": {},
   "outputs": [
    {
     "name": "stdout",
     "output_type": "stream",
     "text": [
      "Epoch 1 - Loss: 2.3035 - Test Accuracy: 9.86%\n",
      "Epoch 2 - Loss: 2.3018 - Test Accuracy: 10.35%\n",
      "Epoch 3 - Loss: 2.3002 - Test Accuracy: 10.87%\n",
      "Epoch 4 - Loss: 2.2985 - Test Accuracy: 11.71%\n",
      "Epoch 5 - Loss: 2.2969 - Test Accuracy: 12.65%\n",
      "Epoch 6 - Loss: 2.2953 - Test Accuracy: 13.55%\n",
      "Epoch 7 - Loss: 2.2937 - Test Accuracy: 14.13%\n",
      "Epoch 8 - Loss: 2.2920 - Test Accuracy: 14.57%\n",
      "Epoch 9 - Loss: 2.2903 - Test Accuracy: 14.99%\n",
      "Epoch 10 - Loss: 2.2886 - Test Accuracy: 15.66%\n"
     ]
    }
   ],
   "source": [
    "\"\"\" Train the model with SGD\"\"\"\n",
    "\n",
    "# With SGD\n",
    "model = CNNLeakyReLU()\n",
    "criterion = nn.CrossEntropyLoss()\n",
    "optimizer = optim.SGD(model.parameters(), lr=0.0001)\n",
    "\n",
    "train_model(model, optimizer, criterion, trainloader, testloader, run_name=\"sgd_run\", num_epochs=10)\n",
    "\n"
   ]
  },
  {
   "cell_type": "code",
   "execution_count": 23,
   "id": "5e85381f-d88c-496b-a44f-5936e4b592ef",
   "metadata": {},
   "outputs": [
    {
     "name": "stdout",
     "output_type": "stream",
     "text": [
      "Epoch 1 - Loss: 1.5714 - Test Accuracy: 51.70%\n",
      "Epoch 2 - Loss: 1.2686 - Test Accuracy: 56.11%\n",
      "Epoch 3 - Loss: 1.1604 - Test Accuracy: 60.18%\n",
      "Epoch 4 - Loss: 1.0754 - Test Accuracy: 61.60%\n",
      "Epoch 5 - Loss: 1.0058 - Test Accuracy: 64.13%\n",
      "Epoch 6 - Loss: 0.9468 - Test Accuracy: 65.03%\n",
      "Epoch 7 - Loss: 0.8924 - Test Accuracy: 65.50%\n",
      "Epoch 8 - Loss: 0.8445 - Test Accuracy: 68.03%\n",
      "Epoch 9 - Loss: 0.7986 - Test Accuracy: 68.82%\n",
      "Epoch 10 - Loss: 0.7564 - Test Accuracy: 69.67%\n"
     ]
    }
   ],
   "source": [
    "\"\"\" With Adam\"\"\"\n",
    "# With Adam\n",
    "model = CNNLeakyReLU()\n",
    "criterion = nn.CrossEntropyLoss()\n",
    "optimizer = optim.Adam(model.parameters(), lr=0.0001)\n",
    "\n",
    "train_model(model, optimizer, criterion, trainloader, testloader, run_name=\"adam_run\", num_epochs=10)"
   ]
  },
  {
   "cell_type": "code",
   "execution_count": 24,
   "id": "6f5cc14f-f67c-4da1-948b-d123c6f90a71",
   "metadata": {},
   "outputs": [
    {
     "name": "stdout",
     "output_type": "stream",
     "text": [
      "Epoch 1 - Loss: 1.5488 - Test Accuracy: 51.53%\n",
      "Epoch 2 - Loss: 1.2627 - Test Accuracy: 57.41%\n",
      "Epoch 3 - Loss: 1.1382 - Test Accuracy: 60.80%\n",
      "Epoch 4 - Loss: 1.0517 - Test Accuracy: 62.40%\n",
      "Epoch 5 - Loss: 0.9801 - Test Accuracy: 64.78%\n",
      "Epoch 6 - Loss: 0.9194 - Test Accuracy: 65.86%\n",
      "Epoch 7 - Loss: 0.8694 - Test Accuracy: 66.96%\n",
      "Epoch 8 - Loss: 0.8231 - Test Accuracy: 68.52%\n",
      "Epoch 9 - Loss: 0.7827 - Test Accuracy: 68.61%\n",
      "Epoch 10 - Loss: 0.7443 - Test Accuracy: 69.01%\n"
     ]
    }
   ],
   "source": [
    "\"\"\"Swap LeakyReLU with TanH\"\"\"\n",
    "\n",
    "# With SGD\n",
    "model = CNNTanh()\n",
    "criterion = nn.CrossEntropyLoss()\n",
    "optimizer = optim.Adam(model.parameters(), lr=0.0001)\n",
    "\n",
    "train_model(model, optimizer, criterion, trainloader, testloader, run_name=\"tanh_adam_run\", num_epochs=10)"
   ]
  },
  {
   "cell_type": "code",
   "execution_count": null,
   "id": "b0889629-40f1-4a44-a8d7-cca746106b6a",
   "metadata": {},
   "outputs": [],
   "source": [
    "# Visualize teh Results in TensorBoard"
   ]
  },
  {
   "cell_type": "code",
   "execution_count": null,
   "id": "6fb0480f-3585-45c8-9682-64a97865981e",
   "metadata": {},
   "outputs": [],
   "source": [
    "print(\"--------------  Lab0 - Task 0.2 ------------------\")"
   ]
  },
  {
   "cell_type": "code",
   "execution_count": null,
   "id": "9ab1da47-5fda-4f0d-9c31-5f4a35fe1620",
   "metadata": {},
   "outputs": [],
   "source": [
    "import torch\n",
    "import torchvision\n",
    "import torchvision.transforms as transforms\n",
    "from torch.utils.data import DataLoader\n",
    "\n",
    "def get_cifar10_loaders(batch_size=64, resize=False):\n",
    "    transform_list = []\n",
    "\n",
    "    if resize:\n",
    "        transform_list.append(transforms.Resize(224))  # Needed for AlexNet, ResNet, etc.\n",
    "\n",
    "    transform_list += [\n",
    "            transforms.ToTensor(),\n",
    "            transforms.Normalize(\n",
    "                mean=[0.485, 0.456, 0.406],   # ImageNet mean\n",
    "                std=[0.229, 0.224, 0.225]     # ImageNet std\n",
    "            )\n",
    "        ]\n",
    "\n",
    "    transform = transforms.Compose(transform_list)\n",
    "\n",
    "    trainset = torchvision.datasets.CIFAR10(root='./data', train=True, download=True, transform=transform)\n",
    "    trainloader = DataLoader(trainset, batch_size=batch_size, shuffle=True)\n",
    "\n",
    "    testset = torchvision.datasets.CIFAR10(root='./data', train=False, download=True, transform=transform)\n",
    "    testloader = DataLoader(testset, batch_size=batch_size, shuffle=False)\n",
    "\n",
    "    return trainloader, testloader, trainset.classes\n",
    "\n"
   ]
  },
  {
   "cell_type": "code",
   "execution_count": null,
   "id": "dd6ccbe8-2fe4-4095-9bfc-d8a9e59e1f3d",
   "metadata": {},
   "outputs": [],
   "source": [
    "import torchvision.models as models\n",
    "import torch.nn as nn\n",
    "\n",
    "def get_alexnet_model(pretrained=False, feature_extract=False):\n",
    "    model = models.alexnet(pretrained=pretrained)\n",
    "\n",
    "    if feature_extract:\n",
    "        for param in model.parameters():\n",
    "            param.requires_grad = False\n",
    "\n",
    "    num_ftrs = model.classifier[6].in_features\n",
    "    model.classifier[6] = nn.Linear(num_ftrs, 10)\n",
    "\n",
    "    return model\n"
   ]
  },
  {
   "cell_type": "code",
   "execution_count": null,
   "id": "a039a05d-76f0-4c8b-bfd9-fb12cefb0bc9",
   "metadata": {},
   "outputs": [],
   "source": [
    "import torch\n",
    "import torch.nn as nn\n",
    "import torch.optim as optim\n",
    "\n",
    "def train_and_evaluate(model, trainloader, testloader, num_epochs=10, lr=0.001):\n",
    "    device = torch.device(\"cuda\" if torch.cuda.is_available() else \"cpu\")\n",
    "    model.to(device)\n",
    "\n",
    "    criterion = nn.CrossEntropyLoss()\n",
    "    optimizer = optim.Adam(filter(lambda p: p.requires_grad, model.parameters()), lr=lr)\n",
    "\n",
    "    for epoch in range(num_epochs):\n",
    "        model.train()\n",
    "        running_loss = 0.0\n",
    "        for inputs, labels in trainloader:\n",
    "            inputs, labels = inputs.to(device), labels.to(device)\n",
    "            optimizer.zero_grad()\n",
    "            outputs = model(inputs)\n",
    "            loss = criterion(outputs, labels)\n",
    "            loss.backward()\n",
    "            optimizer.step()\n",
    "            running_loss += loss.item()\n",
    "        print(f\"Epoch {epoch+1} - Loss: {running_loss/len(trainloader):.4f}\")\n",
    "\n",
    "    model.eval()\n",
    "    correct, total = 0, 0\n",
    "    with torch.no_grad():\n",
    "        for inputs, labels in testloader:\n",
    "            inputs, labels = inputs.to(device), labels.to(device)\n",
    "            outputs = model(inputs)\n",
    "            _, predicted = torch.max(outputs, 1)\n",
    "            total += labels.size(0)\n",
    "            correct += (predicted == labels).sum().item()\n",
    "    accuracy = 100 * correct / total\n",
    "    print(f\"Test Accuracy: {accuracy:.2f}%\")\n",
    "    return accuracy\n"
   ]
  },
  {
   "cell_type": "code",
   "execution_count": null,
   "id": "1149794f-f6bd-4437-8966-51dede47c768",
   "metadata": {},
   "outputs": [],
   "source": [
    "\n",
    "# Load data\n",
    "trainloader, testloader, _ = get_cifar10_loaders(resize=False)\n",
    "\n",
    "# Fine-tune\n",
    "model_finetune = get_alexnet_model(pretrained=True, feature_extract=False)\n",
    "train_and_evaluate(model_finetune, trainloader, testloader, num_epochs=3, lr=0.0001)\n"
   ]
  },
  {
   "cell_type": "code",
   "execution_count": null,
   "id": "38f73e4f-d5c2-43e9-8cf0-0c3897c28b47",
   "metadata": {},
   "outputs": [
    {
     "name": "stdout",
     "output_type": "stream",
     "text": [
      "Files already downloaded and verified\n",
      "Files already downloaded and verified\n"
     ]
    },
    {
     "name": "stderr",
     "output_type": "stream",
     "text": [
      "/Users/nagarajan.ganesan/anaconda3/envs/dl-ex/lib/python3.10/site-packages/torchvision/models/_utils.py:208: UserWarning: The parameter 'pretrained' is deprecated since 0.13 and may be removed in the future, please use 'weights' instead.\n",
      "  warnings.warn(\n",
      "/Users/nagarajan.ganesan/anaconda3/envs/dl-ex/lib/python3.10/site-packages/torchvision/models/_utils.py:223: UserWarning: Arguments other than a weight enum or `None` for 'weights' are deprecated since 0.13 and may be removed in the future. The current behavior is equivalent to passing `weights=AlexNet_Weights.IMAGENET1K_V1`. You can also use `weights=AlexNet_Weights.DEFAULT` to get the most up-to-date weights.\n",
      "  warnings.warn(msg)\n"
     ]
    },
    {
     "name": "stdout",
     "output_type": "stream",
     "text": [
      "[experiment] Epoch 1 - Loss: 1.1262 - Test Accuracy: 71.88%\n"
     ]
    }
   ],
   "source": [
    "# With feature extraction,\n",
    "trainloader, testloader, _ = get_cifar10_loaders(resize=True)\n",
    "model_features = get_alexnet_model(pretrained=True, feature_extract=True)\n",
    "train_and_evaluate(model_features, trainloader, testloader, num_epochs=10, lr=0.0001)"
   ]
  },
  {
   "cell_type": "code",
   "execution_count": null,
   "id": "6f84b861-bb61-4838-8232-13f56be95c0d",
   "metadata": {},
   "outputs": [],
   "source": [
    "print(\"--------------  Lab0 - Task 0.2.2 ------------------\")"
   ]
  },
  {
   "cell_type": "code",
   "execution_count": 80,
   "id": "b49005d5-3d36-4ea5-bf07-39e4a9e06028",
   "metadata": {},
   "outputs": [],
   "source": [
    "\"\"\"\n",
    "MNIST: Grayscale, 28×28 digits (0–9)\n",
    "\n",
    "SVHN: RGB, 32×32 digits (real-world house numbers)\n",
    "\n",
    "Training a CNN on MNIST\n",
    "\n",
    "Using that trained model for SVHN, either by:\n",
    "\n",
    "Fine-tuning (retraining the whole model), or\n",
    "\n",
    "Feature extraction (freezing early layers)\n",
    "\n",
    "\"\"\"\n",
    "# CNN Model\n",
    "class MNISTCNN(nn.Module):\n",
    "    def __init__(self):\n",
    "        super(MNISTCNN, self).__init__()\n",
    "        self.conv1 = nn.Conv2d(1, 32, kernel_size=3, padding=1)\n",
    "        self.conv2 = nn.Conv2d(32, 64, kernel_size=3, padding=1)\n",
    "        self.pool = nn.MaxPool2d(2, 2)\n",
    "        self.fc1 = nn.Linear(64 * 7 * 7, 128)  # 28x28 -> pool -> 14x14 -> pool -> 7x7\n",
    "        self.fc2 = nn.Linear(128, 10) # For 10 classes\n",
    "\n",
    "    def forward(self, x):\n",
    "        x = self.pool(torch.relu(self.conv1(x)))  # [B, 32, 14, 14]\n",
    "        x = self.pool(torch.relu(self.conv2(x)))  # [B, 64, 7, 7]\n",
    "        x = x.view(x.size(0), -1)                 # [B, 3136]\n",
    "        x = torch.relu(self.fc1(x))               # [B, 128]\n",
    "        x = self.fc2(x)                           # [B, 10]\n",
    "        return x\n",
    "\n",
    "\n",
    "import copy\n",
    "\n",
    "class SVHNModel(nn.Module):\n",
    "    def __init__(self, pretrained_mnist):\n",
    "        super(SVHNModel, self).__init__()\n",
    "        # Copy convolution layers from pretrained MNIST model\n",
    "        self.conv1 = pretrained_mnist.conv1\n",
    "        self.conv2 = pretrained_mnist.conv2\n",
    "        self.pool = pretrained_mnist.pool\n",
    "\n",
    "        # Replace classifier (new FC layers for SVHN)\n",
    "        self.fc1 = nn.Linear(64 * 7 * 7, 128)\n",
    "        self.fc2 = nn.Linear(128, 10)\n",
    "\n",
    "    def forward(self, x):\n",
    "        x = self.pool(torch.relu(self.conv1(x)))\n",
    "        x = self.pool(torch.relu(self.conv2(x)))\n",
    "        x = x.view(-1, 64 * 7 * 7)\n",
    "        x = torch.relu(self.fc1(x))\n",
    "        x = self.fc2(x)\n",
    "        return x\n",
    "\n",
    "\n"
   ]
  },
  {
   "cell_type": "code",
   "execution_count": null,
   "id": "dc6a7a20-e9bc-4ccf-9d25-83c902b52132",
   "metadata": {},
   "outputs": [],
   "source": [
    "import torch\n",
    "import torch.nn as nn\n",
    "from torch.utils.tensorboard import SummaryWriter\n",
    "\n",
    "\n",
    "from torchvision import datasets, transforms\n",
    "from torch.utils.data import DataLoader\n",
    "\n",
    "def get_dataset_loaders(dataset_name, batch_size=64, resize=True):\n",
    "    if dataset_name == \"mnist\":\n",
    "        transform = transforms.Compose([\n",
    "            transforms.Resize((28, 28)) if resize else transforms.Lambda(lambda x: x),\n",
    "            transforms.ToTensor(),\n",
    "            transforms.Normalize((0.1307,), (0.3081,))  # Standard MNIST normalization\n",
    "        ])\n",
    "        trainset = datasets.MNIST(root=\"./data\", train=True, download=True, transform=transform)\n",
    "        testset = datasets.MNIST(root=\"./data\", train=False, download=True, transform=transform)\n",
    "\n",
    "    elif dataset_name == \"svhn\":\n",
    "        transform = transforms.Compose([\n",
    "            transforms.Grayscale(num_output_channels=1),  # Convert to 1 channel\n",
    "            transforms.Resize((28, 28)) if resize else transforms.Lambda(lambda x: x),\n",
    "            transforms.ToTensor(),\n",
    "            transforms.Normalize((0.5,), (0.5,))\n",
    "        ])\n",
    "        from torchvision.datasets import SVHN\n",
    "        trainset = SVHN(root=\"./data\", split=\"train\", download=True, transform=transform)\n",
    "        testset = SVHN(root=\"./data\", split=\"test\", download=True, transform=transform)\n",
    "\n",
    "    else:\n",
    "        raise ValueError(\"Unsupported dataset. Use 'mnist' or 'svhn'.\")\n",
    "\n",
    "    trainloader = DataLoader(trainset, batch_size=batch_size, shuffle=True)\n",
    "    testloader = DataLoader(testset, batch_size=batch_size, shuffle=False)\n",
    "\n",
    "    return trainloader, testloader\n",
    "\n",
    "\n",
    "def train_and_evaluate(model, trainloader, testloader,\n",
    "                       num_epochs=10,\n",
    "                       lr=0.001,\n",
    "                       run_name=\"experiment\",\n",
    "                       log_dir=\"runs\",\n",
    "                       optimizer_class=torch.optim.Adam,\n",
    "                       optimizer_kwargs=None):\n",
    "    device = torch.device(\"cuda\" if torch.cuda.is_available() else \"cpu\")\n",
    "    model.to(device)\n",
    "\n",
    "    writer = SummaryWriter(log_dir=f\"{log_dir}/{run_name}\")\n",
    "    criterion = nn.CrossEntropyLoss()\n",
    "\n",
    "    # Set default optimizer kwargs if not provided\n",
    "    if optimizer_kwargs is None:\n",
    "        optimizer_kwargs = {}\n",
    "\n",
    "    optimizer = optimizer_class(filter(lambda p: p.requires_grad, model.parameters()), lr=lr, **optimizer_kwargs)\n",
    "\n",
    "    for epoch in range(num_epochs):\n",
    "        model.train()\n",
    "        running_loss = 0.0\n",
    "        for inputs, labels in trainloader:\n",
    "            inputs, labels = inputs.to(device), labels.to(device)\n",
    "            optimizer.zero_grad()\n",
    "            outputs = model(inputs)\n",
    "            #print(\"Model output shape:\", outputs.shape)\n",
    "            #print(\"Target shape:\", labels.shape)\n",
    "            loss = criterion(outputs, labels)\n",
    "            #print(\"Target shape:\", labels.shape)\n",
    "            loss.backward()\n",
    "            optimizer.step()\n",
    "            running_loss += loss.item()\n",
    "\n",
    "        avg_loss = running_loss / len(trainloader)\n",
    "\n",
    "        # Evaluation\n",
    "        model.eval()\n",
    "        correct, total = 0, 0\n",
    "        with torch.no_grad():\n",
    "            for inputs, labels in testloader:\n",
    "                inputs, labels = inputs.to(device), labels.to(device)\n",
    "                outputs = model(inputs)\n",
    "                _, predicted = torch.max(outputs, 1)\n",
    "                total += labels.size(0)\n",
    "                correct += (predicted == labels).sum().item()\n",
    "        test_accuracy = 100 * correct / total\n",
    "\n",
    "        print(f\"[{run_name}] Epoch {epoch+1} - Loss: {avg_loss:.4f} - Test Accuracy: {test_accuracy:.2f}%\")\n",
    "\n",
    "        writer.add_scalar(\"Loss/train\", avg_loss, epoch)\n",
    "        writer.add_scalar(\"Accuracy/test\", test_accuracy, epoch)\n",
    "\n",
    "    writer.close()\n"
   ]
  },
  {
   "cell_type": "code",
   "execution_count": 86,
   "id": "a0e0680d-175c-4018-9fd5-4275c7f81e5e",
   "metadata": {},
   "outputs": [
    {
     "name": "stdout",
     "output_type": "stream",
     "text": [
      "[mnist_adam_run] Epoch 1 - Loss: 0.1336 - Test Accuracy: 98.70%\n"
     ]
    }
   ],
   "source": [
    "\"\"\" Train on MNIST\"\"\"\n",
    "trainloader, testloader = get_dataset_loaders(\"mnist\")\n",
    "mnist_model = MNISTCNN()\n",
    "train_and_evaluate(mnist_model,  trainloader, testloader, num_epochs=3,\n",
    "                   run_name=\"mnist_adam_run\")\n"
   ]
  },
  {
   "cell_type": "code",
   "execution_count": 85,
   "id": "d80aa144-b599-4985-bd0f-9b6ce7b41778",
   "metadata": {},
   "outputs": [
    {
     "name": "stdout",
     "output_type": "stream",
     "text": [
      "Using downloaded and verified file: ./data/train_32x32.mat\n",
      "Using downloaded and verified file: ./data/test_32x32.mat\n",
      "[svhn_transfer] Epoch 1 - Loss: 0.6962 - Test Accuracy: 85.10%\n",
      "[svhn_transfer] Epoch 2 - Loss: 0.4116 - Test Accuracy: 87.38%\n",
      "[svhn_transfer] Epoch 3 - Loss: 0.3358 - Test Accuracy: 87.51%\n",
      "[svhn_transfer] Epoch 4 - Loss: 0.2831 - Test Accuracy: 88.77%\n",
      "[svhn_transfer] Epoch 5 - Loss: 0.2433 - Test Accuracy: 89.14%\n"
     ]
    }
   ],
   "source": [
    "\"\"\" Transfer and train SVHN\"\"\"\n",
    "svhn_model = SVHNModel(pretrained_mnist=copy.deepcopy(mnist_model))\n",
    "svhn_trainloader, svhn_testloader = get_dataset_loaders(\"svhn\")\n",
    "\n",
    "train_and_evaluate(svhn_model, svhn_trainloader, svhn_testloader, num_epochs=5, lr=0.001, run_name=\"svhn_transfer\")\n"
   ]
  },
  {
   "cell_type": "code",
   "execution_count": 90,
   "id": "6c4a2640-da1c-4f85-bb5c-b98e379eb97f",
   "metadata": {},
   "outputs": [],
   "source": [
    "\"\"\" Optional: Transfer model\"\"\"\n",
    "import copy\n",
    "\n",
    "class SVHNTransferCNN(nn.Module):\n",
    "    def __init__(self, pretrained_mnist):\n",
    "        super(SVHNTransferCNN, self).__init__()\n",
    "        # Copy convolutional layers\n",
    "        self.conv1 = pretrained_mnist.conv1\n",
    "        self.conv2 = pretrained_mnist.conv2\n",
    "        self.pool = pretrained_mnist.pool\n",
    "\n",
    "        # New classification head (trainable)\n",
    "        self.fc1 = nn.Linear(64 * 7 * 7, 128)\n",
    "        self.fc2 = nn.Linear(128, 10)\n",
    "\n",
    "    def forward(self, x):\n",
    "        x = self.pool(torch.relu(self.conv1(x)))\n",
    "        x = self.pool(torch.relu(self.conv2(x)))\n",
    "        x = x.view(x.size(0), -1)\n",
    "        x = torch.relu(self.fc1(x))\n",
    "        x = self.fc2(x)\n",
    "        return x\n"
   ]
  },
  {
   "cell_type": "code",
   "execution_count": 91,
   "id": "78274d4d-d38a-44e1-81bf-4695e7dc6b59",
   "metadata": {},
   "outputs": [
    {
     "name": "stdout",
     "output_type": "stream",
     "text": [
      "[svhn_transfer] Epoch 1 - Loss: 0.6960 - Test Accuracy: 85.45%\n",
      "[svhn_transfer] Epoch 2 - Loss: 0.4078 - Test Accuracy: 86.78%\n",
      "[svhn_transfer] Epoch 3 - Loss: 0.3311 - Test Accuracy: 88.65%\n",
      "[svhn_transfer] Epoch 4 - Loss: 0.2794 - Test Accuracy: 88.83%\n",
      "[svhn_transfer] Epoch 5 - Loss: 0.2365 - Test Accuracy: 89.61%\n"
     ]
    }
   ],
   "source": [
    "transfer_model = SVHNTransferCNN(pretrained_mnist=copy.deepcopy(mnist_model))\n",
    "\n",
    "train_and_evaluate(\n",
    "    transfer_model,\n",
    "    svhn_trainloader,\n",
    "    svhn_testloader,\n",
    "    num_epochs=5,\n",
    "    lr=0.001,\n",
    "    run_name=\"svhn_transfer\",\n",
    "    log_dir=\"logs/mnist_svhn\"\n",
    ")\n"
   ]
  }
 ],
 "metadata": {
  "kernelspec": {
   "display_name": "Python 3 (ipykernel)",
   "language": "python",
   "name": "python3"
  },
  "language_info": {
   "codemirror_mode": {
    "name": "ipython",
    "version": 3
   },
   "file_extension": ".py",
   "mimetype": "text/x-python",
   "name": "python",
   "nbconvert_exporter": "python",
   "pygments_lexer": "ipython3",
   "version": "3.10.16"
  }
 },
 "nbformat": 4,
 "nbformat_minor": 5
}
