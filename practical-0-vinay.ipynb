{
 "cells": [
  {
   "cell_type": "code",
   "execution_count": 3,
   "metadata": {},
   "outputs": [],
   "source": [
    "import torch\n",
    "import torch.nn as nn\n",
    "import torch.optim as optim\n",
    "import torchvision\n",
    "import torchvision.transforms as transforms\n",
    "from torch.utils.data import DataLoader\n",
    "from torch.utils.tensorboard import SummaryWriter\n",
    "from torchvision import models"
   ]
  },
  {
   "cell_type": "markdown",
   "metadata": {},
   "source": [
    "Task1 \n",
    "1. Load CIFAR1-10 dataset"
   ]
  },
  {
   "cell_type": "code",
   "execution_count": 4,
   "metadata": {},
   "outputs": [],
   "source": [
    "# 1. Load CIFAR-10 Dataset\n",
    "transform = transforms.ToTensor()\n",
    "trainset = torchvision.datasets.CIFAR10(root='./data', train=True, download=True, transform=transform)\n",
    "trainloader = DataLoader(trainset, batch_size=64, shuffle=True)\n",
    "testset = torchvision.datasets.CIFAR10(root='./data', train=False, download=True, transform=transform)\n",
    "testloader = DataLoader(testset, batch_size=64, shuffle=False)"
   ]
  },
  {
   "cell_type": "code",
   "execution_count": null,
   "metadata": {},
   "outputs": [],
   "source": [
    "class SimpleCNN(nn.Module):\n",
    "    def __init__(self, activation_fn=nn.LeakyReLU()):\n",
    "        super(SimpleCNN, self).__init__()\n",
    "        # The first layer has 3 input channels and 32 output channels. The point here is\n",
    "        # that the CIFR images are 32 * 32, and RGB channels after the to tensor. So, we take\n",
    "        self.conv_layer = nn.Conv2d(3, 32, kernel_size=5) \n",
    "        # Fully connected layer - the hidden layers are 28 * 28 hence and pooling reduces it by 2\n",
    "        # Hence, 14 * 14 and mult that with 32 feature/conv layers.\n",
    "        self.nn_layer = nn.Linear(32 * 14 * 14, 10)\n",
    "        self.activation = activation_fn  # Activation function\n",
    "        self.pool = nn.MaxPool2d(2, 2)  # Max pooling layer\n",
    "    \n",
    "    def forward(self, x):\n",
    "        x = self.pool(self.activation(self.conv_layer(x))) \n",
    "        x = torch.flatten(x, 1)  # Flatten the feature maps, as the next layer is 1d layer\n",
    "        x = self.nn_layer(x)  # Output layer\n",
    "        return x\n",
    "\n",
    "# ANN-1 excercise\n",
    "def train_model(model, optimizer, error_func, device, epochs=10, log_dir=\"\"):\n",
    "    writer = SummaryWriter(log_dir)\n",
    "    model.to(device)\n",
    "    for epoch in range(epochs):\n",
    "        model.train()\n",
    "        running_loss = 0.0\n",
    "        correct = 0\n",
    "        total = 0\n",
    "        \n",
    "        for images, labels in trainloader:\n",
    "            \n",
    "            images, labels = images.to(device), labels.to(device) \n",
    "            optimizer.zero_grad()  # Reset gradients\n",
    "            outputs = model(images)  # Forward pass\n",
    "            loss = error_func(outputs, labels)  # Compute loss\n",
    "            loss.backward()  # Backpropagation\n",
    "            optimizer.step()  # Update weights\n",
    "            \n",
    "            running_loss += loss.item()\n",
    "            _, predicted = torch.max(outputs, 1)  # Get predictions\n",
    "            total += labels.size(0)\n",
    "            correct += (predicted == labels).sum().item()\n",
    "        \n",
    "        train_acc = 100 * correct / total  # Compute accuracy\n",
    "        writer.add_scalar('Loss/train', running_loss / len(trainloader), epoch)  # Log loss\n",
    "        writer.add_scalar('Accuracy/train', train_acc, epoch)  # Log accuracy\n",
    "        print(f'Epoch {epoch+1}, Loss: {running_loss / len(trainloader)}, Accuracy: {train_acc}%')\n",
    "    writer.close()\n",
    "\n",
    "# Train model with LeakyReLU and SGD optimizer\n",
    "\n",
    "device = torch.device(\"cuda\" if torch.cuda.is_available() else \"cpu\")\n",
    "print(f\"The device I have is {device}\")"
   ]
  },
  {
   "cell_type": "code",
   "execution_count": null,
   "metadata": {},
   "outputs": [
    {
     "name": "stdout",
     "output_type": "stream",
     "text": [
      "The device I have is cuda\n",
      "Epoch 1, Loss: 2.2921436086030265, Accuracy: 11.284%\n",
      "Epoch 2, Loss: 2.271450419560113, Accuracy: 14.464%\n",
      "Epoch 3, Loss: 2.25336359010633, Accuracy: 17.906%\n",
      "Epoch 4, Loss: 2.2353316332068283, Accuracy: 20.622%\n",
      "Epoch 5, Loss: 2.2172058659136447, Accuracy: 22.97%\n",
      "Epoch 6, Loss: 2.198722933869228, Accuracy: 24.628%\n",
      "Epoch 7, Loss: 2.180347995380002, Accuracy: 25.308%\n",
      "Epoch 8, Loss: 2.1620438855017543, Accuracy: 26.248%\n",
      "Epoch 9, Loss: 2.1438465722076727, Accuracy: 26.966%\n",
      "Epoch 10, Loss: 2.1261131671993323, Accuracy: 27.726%\n",
      "Epoch 1, Loss: 1.5117358376302987, Accuracy: 47.088%\n",
      "Epoch 2, Loss: 1.2426141701695863, Accuracy: 56.812%\n",
      "Epoch 3, Loss: 1.1364305840276392, Accuracy: 60.57%\n",
      "Epoch 4, Loss: 1.0608168920440137, Accuracy: 63.564%\n",
      "Epoch 5, Loss: 1.012735387019794, Accuracy: 65.064%\n",
      "Epoch 6, Loss: 0.9734480774311154, Accuracy: 66.47%\n",
      "Epoch 7, Loss: 0.9400296862930289, Accuracy: 67.88%\n",
      "Epoch 8, Loss: 0.9114635889335057, Accuracy: 68.922%\n",
      "Epoch 9, Loss: 0.8919235343670906, Accuracy: 69.444%\n",
      "Epoch 10, Loss: 0.868199521318421, Accuracy: 70.204%\n",
      "Epoch 1, Loss: 1.6219034455621335, Accuracy: 43.512%\n",
      "Epoch 2, Loss: 1.3983936861652853, Accuracy: 51.754%\n",
      "Epoch 3, Loss: 1.2676472472565254, Accuracy: 56.3%\n",
      "Epoch 4, Loss: 1.1849262432369125, Accuracy: 59.13%\n",
      "Epoch 5, Loss: 1.1329223441193477, Accuracy: 61.084%\n",
      "Epoch 6, Loss: 1.0867570198862755, Accuracy: 62.512%\n",
      "Epoch 7, Loss: 1.0551614960288758, Accuracy: 63.74%\n",
      "Epoch 8, Loss: 1.0168165786339498, Accuracy: 65.072%\n",
      "Epoch 9, Loss: 1.0009522052372204, Accuracy: 65.668%\n",
      "Epoch 10, Loss: 0.9822775725361026, Accuracy: 66.154%\n"
     ]
    }
   ],
   "source": [
    "\n",
    "\n",
    "model1 = SimpleCNN(nn.LeakyReLU())\n",
    "optimizer1 = optim.SGD(model1.parameters(), lr=0.0001)\n",
    "err_func = nn.CrossEntropyLoss()\n",
    "train_model(model1, optimizer1, err_func,device, 10, log_dir='logs/leakyrelu_sgd')\n",
    "\n",
    "# Train model with LeakyReLU and Adam optimizer\n",
    "model2 = SimpleCNN(nn.LeakyReLU())\n",
    "optimizer2 = optim.Adam(model2.parameters())\n",
    "train_model(model2, optimizer2, err_func,device, 10, log_dir='logs/leakyrelu_adam')\n",
    "\n",
    "# Train model with Tanh and Adam optimizer\n",
    "model3 = SimpleCNN(nn.Tanh())\n",
    "optimizer3 = optim.Adam(model3.parameters())\n",
    "train_model(model3, optimizer3, err_func,device, 10, log_dir='logs/tanh_adam')\n",
    "\n"
   ]
  },
  {
   "cell_type": "code",
   "execution_count": 13,
   "metadata": {},
   "outputs": [
    {
     "name": "stderr",
     "output_type": "stream",
     "text": [
      "d:\\LTU\\AdvancedNN\\ann_lab_0\\.venv\\Lib\\site-packages\\torchvision\\models\\_utils.py:208: UserWarning: The parameter 'pretrained' is deprecated since 0.13 and may be removed in the future, please use 'weights' instead.\n",
      "  warnings.warn(\n",
      "d:\\LTU\\AdvancedNN\\ann_lab_0\\.venv\\Lib\\site-packages\\torchvision\\models\\_utils.py:223: UserWarning: Arguments other than a weight enum or `None` for 'weights' are deprecated since 0.13 and may be removed in the future. The current behavior is equivalent to passing `weights=None`.\n",
      "  warnings.warn(msg)\n"
     ]
    },
    {
     "name": "stdout",
     "output_type": "stream",
     "text": [
      "Epoch 1, Loss: 1.8377353067288313, Accuracy: 31.568%\n",
      "Epoch 2, Loss: 1.4956363430413444, Accuracy: 45.296%\n",
      "Epoch 3, Loss: 1.3241985467693689, Accuracy: 52.264%\n",
      "Epoch 4, Loss: 1.1965012149432737, Accuracy: 57.324%\n",
      "Epoch 5, Loss: 1.1025679047455264, Accuracy: 60.99%\n",
      "Epoch 6, Loss: 1.0127191164761857, Accuracy: 64.388%\n",
      "Epoch 7, Loss: 0.9604864958149698, Accuracy: 66.442%\n",
      "Epoch 8, Loss: 0.8999955250174189, Accuracy: 68.474%\n",
      "Epoch 9, Loss: 0.8698861631743439, Accuracy: 69.58%\n",
      "Epoch 10, Loss: 0.833780252720084, Accuracy: 70.962%\n"
     ]
    },
    {
     "name": "stderr",
     "output_type": "stream",
     "text": [
      "d:\\LTU\\AdvancedNN\\ann_lab_0\\.venv\\Lib\\site-packages\\torchvision\\models\\_utils.py:223: UserWarning: Arguments other than a weight enum or `None` for 'weights' are deprecated since 0.13 and may be removed in the future. The current behavior is equivalent to passing `weights=AlexNet_Weights.IMAGENET1K_V1`. You can also use `weights=AlexNet_Weights.DEFAULT` to get the most up-to-date weights.\n",
      "  warnings.warn(msg)\n",
      "Downloading: \"https://download.pytorch.org/models/alexnet-owt-7be5be79.pth\" to C:\\Users\\srini/.cache\\torch\\hub\\checkpoints\\alexnet-owt-7be5be79.pth\n",
      "100.0%\n"
     ]
    },
    {
     "name": "stdout",
     "output_type": "stream",
     "text": [
      "Epoch 1, Loss: 1.196297695950779, Accuracy: 57.842%\n"
     ]
    },
    {
     "ename": "KeyboardInterrupt",
     "evalue": "",
     "output_type": "error",
     "traceback": [
      "\u001b[31m---------------------------------------------------------------------------\u001b[39m",
      "\u001b[31mKeyboardInterrupt\u001b[39m                         Traceback (most recent call last)",
      "\u001b[36mCell\u001b[39m\u001b[36m \u001b[39m\u001b[32mIn[13]\u001b[39m\u001b[32m, line 26\u001b[39m\n\u001b[32m     23\u001b[39m alexnet_pretrained.classifier[\u001b[32m6\u001b[39m] = nn.Linear(in_features=\u001b[32m4096\u001b[39m, out_features=\u001b[32m10\u001b[39m)\n\u001b[32m     24\u001b[39m optimizer_pretrained = optim.Adam(alexnet_pretrained.classifier[\u001b[32m6\u001b[39m].parameters())\n\u001b[32m---> \u001b[39m\u001b[32m26\u001b[39m \u001b[43mtrain_model\u001b[49m\u001b[43m(\u001b[49m\u001b[43malexnet_pretrained\u001b[49m\u001b[43m,\u001b[49m\u001b[43m \u001b[49m\u001b[43moptimizer_pretrained\u001b[49m\u001b[43m,\u001b[49m\u001b[43m \u001b[49m\u001b[43merr_func\u001b[49m\u001b[43m,\u001b[49m\u001b[43mdevice\u001b[49m\u001b[43m,\u001b[49m\u001b[43m \u001b[49m\u001b[32;43m10\u001b[39;49m\u001b[43m,\u001b[49m\u001b[43m \u001b[49m\u001b[43mlog_dir\u001b[49m\u001b[43m=\u001b[49m\u001b[33;43m'\u001b[39;49m\u001b[33;43mlogs/alexnet_feature_extraction\u001b[39;49m\u001b[33;43m'\u001b[39;49m\u001b[43m)\u001b[49m\n",
      "\u001b[36mCell\u001b[39m\u001b[36m \u001b[39m\u001b[32mIn[12]\u001b[39m\u001b[32m, line 33\u001b[39m, in \u001b[36mtrain_model\u001b[39m\u001b[34m(model, optimizer, error_func, device, epochs, log_dir)\u001b[39m\n\u001b[32m     31\u001b[39m images, labels = images.to(device), labels.to(device) \n\u001b[32m     32\u001b[39m optimizer.zero_grad()  \u001b[38;5;66;03m# Reset gradients\u001b[39;00m\n\u001b[32m---> \u001b[39m\u001b[32m33\u001b[39m outputs = \u001b[43mmodel\u001b[49m\u001b[43m(\u001b[49m\u001b[43mimages\u001b[49m\u001b[43m)\u001b[49m  \u001b[38;5;66;03m# Forward pass\u001b[39;00m\n\u001b[32m     34\u001b[39m loss = error_func(outputs, labels)  \u001b[38;5;66;03m# Compute loss\u001b[39;00m\n\u001b[32m     35\u001b[39m loss.backward()  \u001b[38;5;66;03m# Backpropagation\u001b[39;00m\n",
      "\u001b[36mFile \u001b[39m\u001b[32md:\\LTU\\AdvancedNN\\ann_lab_0\\.venv\\Lib\\site-packages\\torch\\nn\\modules\\module.py:1739\u001b[39m, in \u001b[36mModule._wrapped_call_impl\u001b[39m\u001b[34m(self, *args, **kwargs)\u001b[39m\n\u001b[32m   1737\u001b[39m     \u001b[38;5;28;01mreturn\u001b[39;00m \u001b[38;5;28mself\u001b[39m._compiled_call_impl(*args, **kwargs)  \u001b[38;5;66;03m# type: ignore[misc]\u001b[39;00m\n\u001b[32m   1738\u001b[39m \u001b[38;5;28;01melse\u001b[39;00m:\n\u001b[32m-> \u001b[39m\u001b[32m1739\u001b[39m     \u001b[38;5;28;01mreturn\u001b[39;00m \u001b[38;5;28;43mself\u001b[39;49m\u001b[43m.\u001b[49m\u001b[43m_call_impl\u001b[49m\u001b[43m(\u001b[49m\u001b[43m*\u001b[49m\u001b[43margs\u001b[49m\u001b[43m,\u001b[49m\u001b[43m \u001b[49m\u001b[43m*\u001b[49m\u001b[43m*\u001b[49m\u001b[43mkwargs\u001b[49m\u001b[43m)\u001b[49m\n",
      "\u001b[36mFile \u001b[39m\u001b[32md:\\LTU\\AdvancedNN\\ann_lab_0\\.venv\\Lib\\site-packages\\torch\\nn\\modules\\module.py:1750\u001b[39m, in \u001b[36mModule._call_impl\u001b[39m\u001b[34m(self, *args, **kwargs)\u001b[39m\n\u001b[32m   1745\u001b[39m \u001b[38;5;66;03m# If we don't have any hooks, we want to skip the rest of the logic in\u001b[39;00m\n\u001b[32m   1746\u001b[39m \u001b[38;5;66;03m# this function, and just call forward.\u001b[39;00m\n\u001b[32m   1747\u001b[39m \u001b[38;5;28;01mif\u001b[39;00m \u001b[38;5;129;01mnot\u001b[39;00m (\u001b[38;5;28mself\u001b[39m._backward_hooks \u001b[38;5;129;01mor\u001b[39;00m \u001b[38;5;28mself\u001b[39m._backward_pre_hooks \u001b[38;5;129;01mor\u001b[39;00m \u001b[38;5;28mself\u001b[39m._forward_hooks \u001b[38;5;129;01mor\u001b[39;00m \u001b[38;5;28mself\u001b[39m._forward_pre_hooks\n\u001b[32m   1748\u001b[39m         \u001b[38;5;129;01mor\u001b[39;00m _global_backward_pre_hooks \u001b[38;5;129;01mor\u001b[39;00m _global_backward_hooks\n\u001b[32m   1749\u001b[39m         \u001b[38;5;129;01mor\u001b[39;00m _global_forward_hooks \u001b[38;5;129;01mor\u001b[39;00m _global_forward_pre_hooks):\n\u001b[32m-> \u001b[39m\u001b[32m1750\u001b[39m     \u001b[38;5;28;01mreturn\u001b[39;00m \u001b[43mforward_call\u001b[49m\u001b[43m(\u001b[49m\u001b[43m*\u001b[49m\u001b[43margs\u001b[49m\u001b[43m,\u001b[49m\u001b[43m \u001b[49m\u001b[43m*\u001b[49m\u001b[43m*\u001b[49m\u001b[43mkwargs\u001b[49m\u001b[43m)\u001b[49m\n\u001b[32m   1752\u001b[39m result = \u001b[38;5;28;01mNone\u001b[39;00m\n\u001b[32m   1753\u001b[39m called_always_called_hooks = \u001b[38;5;28mset\u001b[39m()\n",
      "\u001b[36mFile \u001b[39m\u001b[32md:\\LTU\\AdvancedNN\\ann_lab_0\\.venv\\Lib\\site-packages\\torchvision\\models\\alexnet.py:51\u001b[39m, in \u001b[36mAlexNet.forward\u001b[39m\u001b[34m(self, x)\u001b[39m\n\u001b[32m     49\u001b[39m x = \u001b[38;5;28mself\u001b[39m.avgpool(x)\n\u001b[32m     50\u001b[39m x = torch.flatten(x, \u001b[32m1\u001b[39m)\n\u001b[32m---> \u001b[39m\u001b[32m51\u001b[39m x = \u001b[38;5;28;43mself\u001b[39;49m\u001b[43m.\u001b[49m\u001b[43mclassifier\u001b[49m\u001b[43m(\u001b[49m\u001b[43mx\u001b[49m\u001b[43m)\u001b[49m\n\u001b[32m     52\u001b[39m \u001b[38;5;28;01mreturn\u001b[39;00m x\n",
      "\u001b[36mFile \u001b[39m\u001b[32md:\\LTU\\AdvancedNN\\ann_lab_0\\.venv\\Lib\\site-packages\\torch\\nn\\modules\\module.py:1739\u001b[39m, in \u001b[36mModule._wrapped_call_impl\u001b[39m\u001b[34m(self, *args, **kwargs)\u001b[39m\n\u001b[32m   1737\u001b[39m     \u001b[38;5;28;01mreturn\u001b[39;00m \u001b[38;5;28mself\u001b[39m._compiled_call_impl(*args, **kwargs)  \u001b[38;5;66;03m# type: ignore[misc]\u001b[39;00m\n\u001b[32m   1738\u001b[39m \u001b[38;5;28;01melse\u001b[39;00m:\n\u001b[32m-> \u001b[39m\u001b[32m1739\u001b[39m     \u001b[38;5;28;01mreturn\u001b[39;00m \u001b[38;5;28;43mself\u001b[39;49m\u001b[43m.\u001b[49m\u001b[43m_call_impl\u001b[49m\u001b[43m(\u001b[49m\u001b[43m*\u001b[49m\u001b[43margs\u001b[49m\u001b[43m,\u001b[49m\u001b[43m \u001b[49m\u001b[43m*\u001b[49m\u001b[43m*\u001b[49m\u001b[43mkwargs\u001b[49m\u001b[43m)\u001b[49m\n",
      "\u001b[36mFile \u001b[39m\u001b[32md:\\LTU\\AdvancedNN\\ann_lab_0\\.venv\\Lib\\site-packages\\torch\\nn\\modules\\module.py:1750\u001b[39m, in \u001b[36mModule._call_impl\u001b[39m\u001b[34m(self, *args, **kwargs)\u001b[39m\n\u001b[32m   1745\u001b[39m \u001b[38;5;66;03m# If we don't have any hooks, we want to skip the rest of the logic in\u001b[39;00m\n\u001b[32m   1746\u001b[39m \u001b[38;5;66;03m# this function, and just call forward.\u001b[39;00m\n\u001b[32m   1747\u001b[39m \u001b[38;5;28;01mif\u001b[39;00m \u001b[38;5;129;01mnot\u001b[39;00m (\u001b[38;5;28mself\u001b[39m._backward_hooks \u001b[38;5;129;01mor\u001b[39;00m \u001b[38;5;28mself\u001b[39m._backward_pre_hooks \u001b[38;5;129;01mor\u001b[39;00m \u001b[38;5;28mself\u001b[39m._forward_hooks \u001b[38;5;129;01mor\u001b[39;00m \u001b[38;5;28mself\u001b[39m._forward_pre_hooks\n\u001b[32m   1748\u001b[39m         \u001b[38;5;129;01mor\u001b[39;00m _global_backward_pre_hooks \u001b[38;5;129;01mor\u001b[39;00m _global_backward_hooks\n\u001b[32m   1749\u001b[39m         \u001b[38;5;129;01mor\u001b[39;00m _global_forward_hooks \u001b[38;5;129;01mor\u001b[39;00m _global_forward_pre_hooks):\n\u001b[32m-> \u001b[39m\u001b[32m1750\u001b[39m     \u001b[38;5;28;01mreturn\u001b[39;00m \u001b[43mforward_call\u001b[49m\u001b[43m(\u001b[49m\u001b[43m*\u001b[49m\u001b[43margs\u001b[49m\u001b[43m,\u001b[49m\u001b[43m \u001b[49m\u001b[43m*\u001b[49m\u001b[43m*\u001b[49m\u001b[43mkwargs\u001b[49m\u001b[43m)\u001b[49m\n\u001b[32m   1752\u001b[39m result = \u001b[38;5;28;01mNone\u001b[39;00m\n\u001b[32m   1753\u001b[39m called_always_called_hooks = \u001b[38;5;28mset\u001b[39m()\n",
      "\u001b[36mFile \u001b[39m\u001b[32md:\\LTU\\AdvancedNN\\ann_lab_0\\.venv\\Lib\\site-packages\\torch\\nn\\modules\\container.py:250\u001b[39m, in \u001b[36mSequential.forward\u001b[39m\u001b[34m(self, input)\u001b[39m\n\u001b[32m    248\u001b[39m \u001b[38;5;28;01mdef\u001b[39;00m\u001b[38;5;250m \u001b[39m\u001b[34mforward\u001b[39m(\u001b[38;5;28mself\u001b[39m, \u001b[38;5;28minput\u001b[39m):\n\u001b[32m    249\u001b[39m     \u001b[38;5;28;01mfor\u001b[39;00m module \u001b[38;5;129;01min\u001b[39;00m \u001b[38;5;28mself\u001b[39m:\n\u001b[32m--> \u001b[39m\u001b[32m250\u001b[39m         \u001b[38;5;28minput\u001b[39m = \u001b[43mmodule\u001b[49m\u001b[43m(\u001b[49m\u001b[38;5;28;43minput\u001b[39;49m\u001b[43m)\u001b[49m\n\u001b[32m    251\u001b[39m     \u001b[38;5;28;01mreturn\u001b[39;00m \u001b[38;5;28minput\u001b[39m\n",
      "\u001b[36mFile \u001b[39m\u001b[32md:\\LTU\\AdvancedNN\\ann_lab_0\\.venv\\Lib\\site-packages\\torch\\nn\\modules\\module.py:1739\u001b[39m, in \u001b[36mModule._wrapped_call_impl\u001b[39m\u001b[34m(self, *args, **kwargs)\u001b[39m\n\u001b[32m   1737\u001b[39m     \u001b[38;5;28;01mreturn\u001b[39;00m \u001b[38;5;28mself\u001b[39m._compiled_call_impl(*args, **kwargs)  \u001b[38;5;66;03m# type: ignore[misc]\u001b[39;00m\n\u001b[32m   1738\u001b[39m \u001b[38;5;28;01melse\u001b[39;00m:\n\u001b[32m-> \u001b[39m\u001b[32m1739\u001b[39m     \u001b[38;5;28;01mreturn\u001b[39;00m \u001b[38;5;28;43mself\u001b[39;49m\u001b[43m.\u001b[49m\u001b[43m_call_impl\u001b[49m\u001b[43m(\u001b[49m\u001b[43m*\u001b[49m\u001b[43margs\u001b[49m\u001b[43m,\u001b[49m\u001b[43m \u001b[49m\u001b[43m*\u001b[49m\u001b[43m*\u001b[49m\u001b[43mkwargs\u001b[49m\u001b[43m)\u001b[49m\n",
      "\u001b[36mFile \u001b[39m\u001b[32md:\\LTU\\AdvancedNN\\ann_lab_0\\.venv\\Lib\\site-packages\\torch\\nn\\modules\\module.py:1750\u001b[39m, in \u001b[36mModule._call_impl\u001b[39m\u001b[34m(self, *args, **kwargs)\u001b[39m\n\u001b[32m   1745\u001b[39m \u001b[38;5;66;03m# If we don't have any hooks, we want to skip the rest of the logic in\u001b[39;00m\n\u001b[32m   1746\u001b[39m \u001b[38;5;66;03m# this function, and just call forward.\u001b[39;00m\n\u001b[32m   1747\u001b[39m \u001b[38;5;28;01mif\u001b[39;00m \u001b[38;5;129;01mnot\u001b[39;00m (\u001b[38;5;28mself\u001b[39m._backward_hooks \u001b[38;5;129;01mor\u001b[39;00m \u001b[38;5;28mself\u001b[39m._backward_pre_hooks \u001b[38;5;129;01mor\u001b[39;00m \u001b[38;5;28mself\u001b[39m._forward_hooks \u001b[38;5;129;01mor\u001b[39;00m \u001b[38;5;28mself\u001b[39m._forward_pre_hooks\n\u001b[32m   1748\u001b[39m         \u001b[38;5;129;01mor\u001b[39;00m _global_backward_pre_hooks \u001b[38;5;129;01mor\u001b[39;00m _global_backward_hooks\n\u001b[32m   1749\u001b[39m         \u001b[38;5;129;01mor\u001b[39;00m _global_forward_hooks \u001b[38;5;129;01mor\u001b[39;00m _global_forward_pre_hooks):\n\u001b[32m-> \u001b[39m\u001b[32m1750\u001b[39m     \u001b[38;5;28;01mreturn\u001b[39;00m \u001b[43mforward_call\u001b[49m\u001b[43m(\u001b[49m\u001b[43m*\u001b[49m\u001b[43margs\u001b[49m\u001b[43m,\u001b[49m\u001b[43m \u001b[49m\u001b[43m*\u001b[49m\u001b[43m*\u001b[49m\u001b[43mkwargs\u001b[49m\u001b[43m)\u001b[49m\n\u001b[32m   1752\u001b[39m result = \u001b[38;5;28;01mNone\u001b[39;00m\n\u001b[32m   1753\u001b[39m called_always_called_hooks = \u001b[38;5;28mset\u001b[39m()\n",
      "\u001b[36mFile \u001b[39m\u001b[32md:\\LTU\\AdvancedNN\\ann_lab_0\\.venv\\Lib\\site-packages\\torch\\nn\\modules\\linear.py:125\u001b[39m, in \u001b[36mLinear.forward\u001b[39m\u001b[34m(self, input)\u001b[39m\n\u001b[32m    124\u001b[39m \u001b[38;5;28;01mdef\u001b[39;00m\u001b[38;5;250m \u001b[39m\u001b[34mforward\u001b[39m(\u001b[38;5;28mself\u001b[39m, \u001b[38;5;28minput\u001b[39m: Tensor) -> Tensor:\n\u001b[32m--> \u001b[39m\u001b[32m125\u001b[39m     \u001b[38;5;28;01mreturn\u001b[39;00m \u001b[43mF\u001b[49m\u001b[43m.\u001b[49m\u001b[43mlinear\u001b[49m\u001b[43m(\u001b[49m\u001b[38;5;28;43minput\u001b[39;49m\u001b[43m,\u001b[49m\u001b[43m \u001b[49m\u001b[38;5;28;43mself\u001b[39;49m\u001b[43m.\u001b[49m\u001b[43mweight\u001b[49m\u001b[43m,\u001b[49m\u001b[43m \u001b[49m\u001b[38;5;28;43mself\u001b[39;49m\u001b[43m.\u001b[49m\u001b[43mbias\u001b[49m\u001b[43m)\u001b[49m\n",
      "\u001b[31mKeyboardInterrupt\u001b[39m: "
     ]
    }
   ],
   "source": [
    "# 2. Fine-tuning the AlexNet model for CIFAR-10\n",
    "transform_alex = transforms.Compose([\n",
    "    transforms.Resize((224, 224)),  # Resize to 224x224 to match AlexNet input size\n",
    "    transforms.ToTensor()])\n",
    "\n",
    "\n",
    "trainset = torchvision.datasets.CIFAR10(root='./data', train=True, download=True, transform=transform_alex)\n",
    "trainloader = DataLoader(trainset, batch_size=64, shuffle=True)\n",
    "testset = torchvision.datasets.CIFAR10(root='./data', train=False, download=True, transform=transform_alex)\n",
    "testloader = DataLoader(testset, batch_size=64, shuffle=False)\n",
    "\n",
    "alexnet = models.alexnet(pretrained=False)  # We will initialize AlexNet without pre-trained weights\n",
    "alexnet.classifier[6] = nn.Linear(in_features=4096, out_features=10) \n",
    "optimizer_alexnet = optim.Adam(alexnet.parameters())\n",
    "err_func = nn.CrossEntropyLoss()\n",
    "# device = torch.device(\"cpu\")\n",
    "\n",
    "train_model(alexnet, optimizer_alexnet, err_func,device, 10, log_dir='logs/alexnet_finetuning')\n",
    "\n",
    "alexnet_pretrained = models.alexnet(pretrained=True)\n",
    "\n",
    "\n",
    "alexnet_pretrained.classifier[6] = nn.Linear(in_features=4096, out_features=10)\n",
    "optimizer_pretrained = optim.Adam(alexnet_pretrained.classifier[6].parameters())\n",
    "\n",
    "train_model(alexnet_pretrained, optimizer_pretrained, err_func,device, 10, log_dir='logs/alexnet_feature_extraction')"
   ]
  },
  {
   "cell_type": "markdown",
   "metadata": {},
   "source": [
    "##### Cancelled the pre-trained alexnet, after 1 iteration, as it was taking a long time."
   ]
  },
  {
   "cell_type": "code",
   "execution_count": 15,
   "metadata": {},
   "outputs": [
    {
     "name": "stdout",
     "output_type": "stream",
     "text": [
      "Epoch 1, Loss: 0.219141412510483, Accuracy: 93.54333333333334%\n",
      "Epoch 2, Loss: 0.08491279584452954, Accuracy: 97.545%\n",
      "Epoch 3, Loss: 0.06569448769227096, Accuracy: 98.02833333333334%\n",
      "Epoch 4, Loss: 0.05691579594317802, Accuracy: 98.30166666666666%\n",
      "Epoch 5, Loss: 0.0471664274515741, Accuracy: 98.52166666666666%\n"
     ]
    }
   ],
   "source": [
    "#Using the same CNN for MINST and SVHN datsets.\n",
    "\n",
    "\n",
    "transform_mnist = transforms.Compose([\n",
    "    transforms.Resize((32, 32)),  # Resize to match your model's expected input size\n",
    "    transforms.Grayscale(num_output_channels=3),  # Convert 1 channel -> 3 channels\n",
    "    transforms.ToTensor()\n",
    "])\n",
    "\n",
    "mnist_trainset = torchvision.datasets.MNIST(root='./data', train=True, download=True, transform=transform_mnist)\n",
    "mnist_testset = torchvision.datasets.MNIST(root='./data', train=False, download=True, transform=transform_mnist)\n",
    "\n",
    "trainloader = DataLoader(mnist_trainset, batch_size=64, shuffle=True)\n",
    "testloader = DataLoader(mnist_testset, batch_size=64, shuffle=False)\n",
    "\n",
    "\n",
    "model_minst = SimpleCNN(nn.Tanh())\n",
    "optimizer_minst = optim.Adam(model_minst.parameters())\n",
    "\n",
    "# optimizer1 = optim.SGD(model1.parameters(), lr=0.0001)\n",
    "err_func = nn.CrossEntropyLoss()\n",
    "train_model(model_minst, optimizer_minst, err_func,device, 5, log_dir='logs/minst_tanh_adam')"
   ]
  },
  {
   "cell_type": "code",
   "execution_count": 1,
   "metadata": {},
   "outputs": [
    {
     "ename": "NameError",
     "evalue": "name 'transforms' is not defined",
     "output_type": "error",
     "traceback": [
      "\u001b[31m---------------------------------------------------------------------------\u001b[39m",
      "\u001b[31mNameError\u001b[39m                                 Traceback (most recent call last)",
      "\u001b[36mCell\u001b[39m\u001b[36m \u001b[39m\u001b[32mIn[1]\u001b[39m\u001b[32m, line 1\u001b[39m\n\u001b[32m----> \u001b[39m\u001b[32m1\u001b[39m transform_svhn = \u001b[43mtransforms\u001b[49m.Compose(transforms.ToTensor())\n\u001b[32m      3\u001b[39m svhn_trainset = torchvision.datasets.SVHN(root=\u001b[33m'\u001b[39m\u001b[33m./data\u001b[39m\u001b[33m'\u001b[39m, split=\u001b[33m'\u001b[39m\u001b[33mtrain\u001b[39m\u001b[33m'\u001b[39m, download=\u001b[38;5;28;01mTrue\u001b[39;00m, transform=transform_svhn)\n\u001b[32m      4\u001b[39m svhn_testset = torchvision.datasets.SVHN(root=\u001b[33m'\u001b[39m\u001b[33m./data\u001b[39m\u001b[33m'\u001b[39m, split=\u001b[33m'\u001b[39m\u001b[33mtest\u001b[39m\u001b[33m'\u001b[39m, download=\u001b[38;5;28;01mTrue\u001b[39;00m, transform=transform_svhn)\n",
      "\u001b[31mNameError\u001b[39m: name 'transforms' is not defined"
     ]
    }
   ],
   "source": [
    "transform_svhn = transforms.Compose(transforms.ToTensor())\n",
    "\n",
    "svhn_trainset = torchvision.datasets.SVHN(root='./data', split='train', download=True, transform=transform_svhn)\n",
    "svhn_testset = torchvision.datasets.SVHN(root='./data', split='test', download=True, transform=transform_svhn)\n",
    "\n",
    "svhn_trainloader = DataLoader(svhn_trainset, batch_size=64, shuffle=True)\n",
    "svhn_testloader = DataLoader(svhn_testset, batch_size=64, shuffle=False)\n",
    "\n",
    "model_svhn = SimpleCNN(nn.Tanh())\n",
    "optimizer_svhn = optim.Adam(model_svhn.parameters())\n",
    "\n",
    "# optimizer1 = optim.SGD(model1.parameters(), lr=0.0001)\n",
    "err_func = nn.CrossEntropyLoss()\n",
    "train_model(model_svhn, optimizer_svhn, err_func,device, 5, log_dir='logs/svhn_tanh_adam')"
   ]
  }
 ],
 "metadata": {
  "kernelspec": {
   "display_name": ".venv",
   "language": "python",
   "name": "python3"
  },
  "language_info": {
   "codemirror_mode": {
    "name": "ipython",
    "version": 3
   },
   "file_extension": ".py",
   "mimetype": "text/x-python",
   "name": "python",
   "nbconvert_exporter": "python",
   "pygments_lexer": "ipython3",
   "version": "3.11.9"
  }
 },
 "nbformat": 4,
 "nbformat_minor": 2
}
